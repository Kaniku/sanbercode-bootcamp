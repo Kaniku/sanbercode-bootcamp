{
  "nbformat": 4,
  "nbformat_minor": 0,
  "metadata": {
    "colab": {
      "name": "katarinanimas20@gmail.com.ipynb",
      "provenance": [],
      "collapsed_sections": []
    },
    "kernelspec": {
      "name": "python3",
      "display_name": "Python 3"
    }
  },
  "cells": [
    {
      "cell_type": "markdown",
      "metadata": {
        "id": "8AisfCMGYsKa",
        "colab_type": "text"
      },
      "source": [
        "**MINI PROJECT 1: REMOVE DUPLIKAT LIST**"
      ]
    },
    {
      "cell_type": "code",
      "metadata": {
        "id": "we2nAxLRZAVw",
        "colab_type": "code",
        "colab": {
          "base_uri": "https://localhost:8080/",
          "height": 54
        },
        "outputId": "379e198e-d462-40e3-a39d-5407280ece13"
      },
      "source": [
        "# solusi tanpa menggunakan set\n",
        "def remove_duplicate(obj_list):\n",
        "    i=[]\n",
        "    for new_list in obj_list:\n",
        "        if new_list not in i:\n",
        "            i.append(new_list)\n",
        "    obj_list = i\n",
        "    #code Here\n",
        "    return i\n",
        "\n",
        "# solusi dengan menggunakan set\n",
        "def remove_duplicate_with_set(obj_list):\n",
        " \n",
        "    #code Here\n",
        "    new_list= list(set(obj_list).intersection(obj_list))\n",
        "    return new_list\n",
        "\n",
        "obj_list = [1, 2, 4, 6, 2, 1, 4, 5, 7, 8, 6]\n",
        "print(remove_duplicate(obj_list))\n",
        "print(remove_duplicate_with_set(obj_list))\n",
        "\n"
      ],
      "execution_count": null,
      "outputs": [
        {
          "output_type": "stream",
          "text": [
            "[1, 2, 4, 6, 5, 7, 8]\n",
            "[1, 2, 4, 5, 6, 7, 8]\n"
          ],
          "name": "stdout"
        }
      ]
    },
    {
      "cell_type": "markdown",
      "metadata": {
        "id": "OCsLS1k2ZEm1",
        "colab_type": "text"
      },
      "source": [
        "**MINI PROJECT 2: MEMBUAT CHATBOT SEDERHANA**"
      ]
    },
    {
      "cell_type": "code",
      "metadata": {
        "id": "oFouEEjjZMMu",
        "colab_type": "code",
        "colab": {
          "base_uri": "https://localhost:8080/",
          "height": 90
        },
        "outputId": "df68d6a2-adbb-4a4f-b333-e67796233efa"
      },
      "source": [
        "# import library\n",
        "from datetime import datetime\n",
        "import random\n",
        "\n",
        "# ganti dengan sebuah nama\n",
        "nama  = \"Katarina Nimas Kusumawati\"\n",
        "# variabel tanggal\n",
        "tanggal = datetime.now().day\n",
        "# default variabel untuk pertanyaan tidak diketahui\n",
        "default = \"maaf, aku tidak tahu jawaban dari pertanyaanmu\"\n",
        "\n",
        "# Membuat objek dictionary berisi berbagai opsi jawaban\n",
        "\n",
        "# list jawaban untuk pertanyaan tentang nama\n",
        "jawaban_nama = [\n",
        "      \"nama saya  {0}\".format(nama),\n",
        "      \"orang-orang memanggil saya {0}\".format(nama),\n",
        "      \"panggil saja saya {0}\".format(nama)\n",
        "   ]\n",
        "\n",
        "# list jawaban untuk pertanyaan tentang tanggal\n",
        "jawaban_tanggal = [\n",
        "      \"hari ini tanggal {0}\".format(tanggal),\n",
        "      \"ya ampun masa tidak tahu, hari ini tanggal{0}\".format(tanggal)\n",
        "    ]\n",
        "\n",
        "# opsi pertanyaan yang bisa dijawab\n",
        "pertanyaan = {\n",
        "  \"nama kamu siapa?\": jawaban_nama,\n",
        "  \"kamu siapa?\" : jawaban_nama,\n",
        "  \"tanggal berapa hari ini?\": jawaban_tanggal,\n",
        "  \"hari ini tanggal berapa?\" : jawaban_tanggal,\n",
        "  \"default\": default\n",
        "}\n",
        "\n",
        "# list jawaban untuk sebuah argument selain pertanyaan\n",
        "statement =  [\n",
        "                  'ceritakan lebih banyak!',\n",
        "                  'kenapa kamu berpikir begitu?',\n",
        "                  'sudah berapa lama kamu merasa seperti ini?',\n",
        "                  'Itu sangat menarik!',\n",
        "                  'oh wow!',\n",
        "                  ':)'\n",
        "              ]\n",
        "\n",
        "# respon keseluruhan\n",
        "responses = {\n",
        "    'pertanyaan' : pertanyaan,\n",
        "    'statement' : statement\n",
        "}\n",
        "#------\n",
        "             \n",
        "# ayo buat chatbotmu\n",
        "def chatbot(message):\n",
        "    ## code disini\n",
        "    if \"?\" in message:\n",
        "        if \"nama kamu siapa?\" in message:\n",
        "            return random.choice(responses['pertanyaan']['nama kamu siapa?'])\n",
        "        elif \"kamu siapa?\" in message:\n",
        "            return random.choice(responses['pertanyaan'][\"kamu siapa?\"])\n",
        "        elif \"tanggal berapa hari ini?\" in message:\n",
        "            return random.choice(responses['pertanyaan'][\"tanggal berapa hari ini?\"])\n",
        "        elif \"hari ini tanggal berapa?\" in message:\n",
        "            return random.choice(responses['pertanyaan'][\"hari ini tanggal berapa?\"])\n",
        "        else:\n",
        "            return (responses['pertanyaan']['default'])\n",
        "    else:\n",
        "        return random.choice(responses['statement'])\n",
        "    \n",
        "\n",
        "    \n",
        "\n",
        "print(chatbot('Selamat Pagi'))\n",
        "print(chatbot('Mau bermain bersamaku?'))\n",
        "print(chatbot('nama kamu siapa?'))\n",
        "print(chatbot('hari ini tanggal berapa?'))\n"
      ],
      "execution_count": null,
      "outputs": [
        {
          "output_type": "stream",
          "text": [
            "sudah berapa lama kamu merasa seperti ini?\n",
            "maaf, aku tidak tahu jawaban dari pertanyaanmu\n",
            "panggil saja saya Katarina Nimas Kusumawati\n",
            "hari ini tanggal 26\n"
          ],
          "name": "stdout"
        }
      ]
    }
  ]
}